{
 "cells": [
  {
   "cell_type": "code",
   "execution_count": 23,
   "metadata": {},
   "outputs": [],
   "source": [
    "import pandas as pd\n",
    "import numpy as np\n",
    "import matplotlib.pyplot as plt"
   ]
  },
  {
   "cell_type": "markdown",
   "metadata": {},
   "source": [
    "### Cargar archivos"
   ]
  },
  {
   "cell_type": "code",
   "execution_count": 24,
   "metadata": {},
   "outputs": [],
   "source": [
    "sales_2012 = pd.read_csv(r\"C:\\Users\\tcabreraro001\\Downloads\\Curso Python\\Preparation Data\\sales_2012.csv\")\n",
    "sales_2013 = pd.read_csv(r\"C:\\Users\\tcabreraro001\\Downloads\\Curso Python\\Preparation Data\\sales_2013.csv\")\n",
    "sales_2014 = pd.read_csv(r\"C:\\Users\\tcabreraro001\\Downloads\\Curso Python\\Preparation Data\\sales_2014.csv\")\n",
    "sales_2015 = pd.read_csv(r\"C:\\Users\\tcabreraro001\\Downloads\\Curso Python\\Preparation Data\\sales_2015.csv\")\n",
    "customer_address = pd.read_csv(r\"C:\\Users\\tcabreraro001\\Downloads\\Curso Python\\Preparation Data\\customer_addresses.csv\")"
   ]
  },
  {
   "cell_type": "code",
   "execution_count": 25,
   "metadata": {},
   "outputs": [],
   "source": [
    "# Uno todas las fechas - Union\n",
    "sales_total = pd.concat([sales_2012,sales_2013,sales_2014,sales_2015])\n",
    "# Hago un merge para hacer un join \n",
    "sales_customer_details = sales_total.merge(customer_address,on=\"Customer ID\", how=\"left\")"
   ]
  },
  {
   "cell_type": "markdown",
   "metadata": {},
   "source": [
    "## Check datatype column"
   ]
  },
  {
   "cell_type": "code",
   "execution_count": 26,
   "metadata": {},
   "outputs": [
    {
     "data": {
      "text/html": [
       "<div>\n",
       "<style scoped>\n",
       "    .dataframe tbody tr th:only-of-type {\n",
       "        vertical-align: middle;\n",
       "    }\n",
       "\n",
       "    .dataframe tbody tr th {\n",
       "        vertical-align: top;\n",
       "    }\n",
       "\n",
       "    .dataframe thead th {\n",
       "        text-align: right;\n",
       "    }\n",
       "</style>\n",
       "<table border=\"1\" class=\"dataframe\">\n",
       "  <thead>\n",
       "    <tr style=\"text-align: right;\">\n",
       "      <th></th>\n",
       "      <th>Transaction ID</th>\n",
       "      <th>Transaction Date</th>\n",
       "      <th>Price</th>\n",
       "      <th>Quantity</th>\n",
       "      <th>Revenue</th>\n",
       "      <th>Product</th>\n",
       "      <th>Customer ID</th>\n",
       "      <th>Company Name</th>\n",
       "      <th>Street Address</th>\n",
       "      <th>City</th>\n",
       "      <th>State</th>\n",
       "      <th>Postal Code</th>\n",
       "    </tr>\n",
       "  </thead>\n",
       "  <tbody>\n",
       "    <tr>\n",
       "      <th>0</th>\n",
       "      <td>T100000001</td>\n",
       "      <td>2012-01-01</td>\n",
       "      <td>404.46</td>\n",
       "      <td>18</td>\n",
       "      <td>7280.28</td>\n",
       "      <td>Lomina</td>\n",
       "      <td>A100021</td>\n",
       "      <td>Scotzoom</td>\n",
       "      <td>70 Bald Hill St.</td>\n",
       "      <td>Middle Village</td>\n",
       "      <td>NY</td>\n",
       "      <td>11379</td>\n",
       "    </tr>\n",
       "    <tr>\n",
       "      <th>1</th>\n",
       "      <td>T100000002</td>\n",
       "      <td>2012-01-01</td>\n",
       "      <td>202.23</td>\n",
       "      <td>9</td>\n",
       "      <td>1820.07</td>\n",
       "      <td>Lomina</td>\n",
       "      <td>A103221</td>\n",
       "      <td>Geombee</td>\n",
       "      <td>9 Dunbar St.</td>\n",
       "      <td>Bayside</td>\n",
       "      <td>NY</td>\n",
       "      <td>11361</td>\n",
       "    </tr>\n",
       "    <tr>\n",
       "      <th>2</th>\n",
       "      <td>T100000003</td>\n",
       "      <td>2012-01-01</td>\n",
       "      <td>179.76</td>\n",
       "      <td>8</td>\n",
       "      <td>1438.08</td>\n",
       "      <td>Lomina</td>\n",
       "      <td>A112321</td>\n",
       "      <td>Jalane</td>\n",
       "      <td>542 Stonybrook Street</td>\n",
       "      <td>Zion</td>\n",
       "      <td>IL</td>\n",
       "      <td>60099</td>\n",
       "    </tr>\n",
       "    <tr>\n",
       "      <th>3</th>\n",
       "      <td>T100000004</td>\n",
       "      <td>2012-01-01</td>\n",
       "      <td>831.39</td>\n",
       "      <td>37</td>\n",
       "      <td>30761.43</td>\n",
       "      <td>Lomina</td>\n",
       "      <td>A122321</td>\n",
       "      <td>Cansolis</td>\n",
       "      <td>166 East Richardson St.</td>\n",
       "      <td>Pensacola</td>\n",
       "      <td>FL</td>\n",
       "      <td>32503</td>\n",
       "    </tr>\n",
       "    <tr>\n",
       "      <th>4</th>\n",
       "      <td>T100000005</td>\n",
       "      <td>2012-01-01</td>\n",
       "      <td>1101.03</td>\n",
       "      <td>49</td>\n",
       "      <td>53950.47</td>\n",
       "      <td>Lomina</td>\n",
       "      <td>A123921</td>\n",
       "      <td>Squidbeat</td>\n",
       "      <td>9427 Big Rock Cove Ave.</td>\n",
       "      <td>Shelbyville</td>\n",
       "      <td>TN</td>\n",
       "      <td>37160</td>\n",
       "    </tr>\n",
       "    <tr>\n",
       "      <th>...</th>\n",
       "      <td>...</td>\n",
       "      <td>...</td>\n",
       "      <td>...</td>\n",
       "      <td>...</td>\n",
       "      <td>...</td>\n",
       "      <td>...</td>\n",
       "      <td>...</td>\n",
       "      <td>...</td>\n",
       "      <td>...</td>\n",
       "      <td>...</td>\n",
       "      <td>...</td>\n",
       "      <td>...</td>\n",
       "    </tr>\n",
       "    <tr>\n",
       "      <th>4450</th>\n",
       "      <td>T100004441</td>\n",
       "      <td>2015-12-01</td>\n",
       "      <td>3419.72</td>\n",
       "      <td>4</td>\n",
       "      <td>13678.88</td>\n",
       "      <td>Samtan</td>\n",
       "      <td>A186921</td>\n",
       "      <td>Cogicero</td>\n",
       "      <td>54 Stillwater Drive</td>\n",
       "      <td>Cookeville</td>\n",
       "      <td>TN</td>\n",
       "      <td>38501</td>\n",
       "    </tr>\n",
       "    <tr>\n",
       "      <th>4451</th>\n",
       "      <td>T100004442</td>\n",
       "      <td>2015-12-01</td>\n",
       "      <td>5129.58</td>\n",
       "      <td>6</td>\n",
       "      <td>30777.48</td>\n",
       "      <td>Samtan</td>\n",
       "      <td>A130021</td>\n",
       "      <td>Hextech</td>\n",
       "      <td>543 School Street</td>\n",
       "      <td>Virginia Beach</td>\n",
       "      <td>VA</td>\n",
       "      <td>23451</td>\n",
       "    </tr>\n",
       "    <tr>\n",
       "      <th>4452</th>\n",
       "      <td>T100004443</td>\n",
       "      <td>2015-12-01</td>\n",
       "      <td>5129.58</td>\n",
       "      <td>6</td>\n",
       "      <td>30777.48</td>\n",
       "      <td>Samtan</td>\n",
       "      <td>A132821</td>\n",
       "      <td>Animive</td>\n",
       "      <td>8991 Brickyard Ave.</td>\n",
       "      <td>Langhorne</td>\n",
       "      <td>PA</td>\n",
       "      <td>19047</td>\n",
       "    </tr>\n",
       "    <tr>\n",
       "      <th>4453</th>\n",
       "      <td>T100004444</td>\n",
       "      <td>2015-12-01</td>\n",
       "      <td>5129.58</td>\n",
       "      <td>6</td>\n",
       "      <td>30777.48</td>\n",
       "      <td>Samtan</td>\n",
       "      <td>A155621</td>\n",
       "      <td>Kinplex</td>\n",
       "      <td>299 Fremont Street</td>\n",
       "      <td>Saint Cloud</td>\n",
       "      <td>MN</td>\n",
       "      <td>56301</td>\n",
       "    </tr>\n",
       "    <tr>\n",
       "      <th>4454</th>\n",
       "      <td>T100004445</td>\n",
       "      <td>2015-12-01</td>\n",
       "      <td>6839.44</td>\n",
       "      <td>8</td>\n",
       "      <td>54715.52</td>\n",
       "      <td>Samtan</td>\n",
       "      <td>A199821</td>\n",
       "      <td>Chiefsearch</td>\n",
       "      <td>8800 Surrey Circle</td>\n",
       "      <td>Howard Beach</td>\n",
       "      <td>NY</td>\n",
       "      <td>11414</td>\n",
       "    </tr>\n",
       "  </tbody>\n",
       "</table>\n",
       "<p>4455 rows × 12 columns</p>\n",
       "</div>"
      ],
      "text/plain": [
       "     Transaction ID Transaction Date    Price  Quantity   Revenue Product  \\\n",
       "0        T100000001       2012-01-01   404.46        18   7280.28  Lomina   \n",
       "1        T100000002       2012-01-01   202.23         9   1820.07  Lomina   \n",
       "2        T100000003       2012-01-01   179.76         8   1438.08  Lomina   \n",
       "3        T100000004       2012-01-01   831.39        37  30761.43  Lomina   \n",
       "4        T100000005       2012-01-01  1101.03        49  53950.47  Lomina   \n",
       "...             ...              ...      ...       ...       ...     ...   \n",
       "4450     T100004441       2015-12-01  3419.72         4  13678.88  Samtan   \n",
       "4451     T100004442       2015-12-01  5129.58         6  30777.48  Samtan   \n",
       "4452     T100004443       2015-12-01  5129.58         6  30777.48  Samtan   \n",
       "4453     T100004444       2015-12-01  5129.58         6  30777.48  Samtan   \n",
       "4454     T100004445       2015-12-01  6839.44         8  54715.52  Samtan   \n",
       "\n",
       "     Customer ID Company Name            Street Address            City State  \\\n",
       "0        A100021     Scotzoom         70 Bald Hill St.   Middle Village    NY   \n",
       "1        A103221      Geombee             9 Dunbar St.          Bayside    NY   \n",
       "2        A112321       Jalane    542 Stonybrook Street             Zion    IL   \n",
       "3        A122321     Cansolis  166 East Richardson St.        Pensacola    FL   \n",
       "4        A123921    Squidbeat  9427 Big Rock Cove Ave.      Shelbyville    TN   \n",
       "...          ...          ...                       ...             ...   ...   \n",
       "4450     A186921     Cogicero      54 Stillwater Drive       Cookeville    TN   \n",
       "4451     A130021      Hextech        543 School Street   Virginia Beach    VA   \n",
       "4452     A132821      Animive      8991 Brickyard Ave.        Langhorne    PA   \n",
       "4453     A155621      Kinplex       299 Fremont Street      Saint Cloud    MN   \n",
       "4454     A199821  Chiefsearch       8800 Surrey Circle     Howard Beach    NY   \n",
       "\n",
       "      Postal Code  \n",
       "0           11379  \n",
       "1           11361  \n",
       "2           60099  \n",
       "3           32503  \n",
       "4           37160  \n",
       "...           ...  \n",
       "4450        38501  \n",
       "4451        23451  \n",
       "4452        19047  \n",
       "4453        56301  \n",
       "4454        11414  \n",
       "\n",
       "[4455 rows x 12 columns]"
      ]
     },
     "execution_count": 26,
     "metadata": {},
     "output_type": "execute_result"
    }
   ],
   "source": [
    "sales_customer_details[\"Revenue\"].describe() # dtype: object\n",
    "\n",
    "sales_customer_details[\"Revenue\"] = sales_customer_details[\"Revenue\"].str.strip(\"$\").astype(\"float64\")\n",
    "sales_customer_details[\"Price\"] = sales_customer_details[\"Price\"].str.strip(\"$\").astype(\"float64\")\n",
    "sales_customer_details[\"Transaction Date\"]=pd.to_datetime(sales_customer_details[\"Transaction Date\"])\n",
    "\n",
    "sales_customer_details"
   ]
  },
  {
   "cell_type": "code",
   "execution_count": 27,
   "metadata": {},
   "outputs": [
    {
     "data": {
      "text/html": [
       "<div>\n",
       "<style scoped>\n",
       "    .dataframe tbody tr th:only-of-type {\n",
       "        vertical-align: middle;\n",
       "    }\n",
       "\n",
       "    .dataframe tbody tr th {\n",
       "        vertical-align: top;\n",
       "    }\n",
       "\n",
       "    .dataframe thead th {\n",
       "        text-align: right;\n",
       "    }\n",
       "</style>\n",
       "<table border=\"1\" class=\"dataframe\">\n",
       "  <thead>\n",
       "    <tr style=\"text-align: right;\">\n",
       "      <th></th>\n",
       "      <th>Transaction ID</th>\n",
       "      <th>Transaction Date</th>\n",
       "      <th>Price</th>\n",
       "      <th>Quantity</th>\n",
       "      <th>Revenue</th>\n",
       "      <th>Product</th>\n",
       "      <th>Customer ID</th>\n",
       "      <th>Company Name</th>\n",
       "      <th>Street Address</th>\n",
       "      <th>City</th>\n",
       "      <th>State</th>\n",
       "      <th>Postal Code</th>\n",
       "    </tr>\n",
       "  </thead>\n",
       "  <tbody>\n",
       "    <tr>\n",
       "      <th>4158</th>\n",
       "      <td>T100004149</td>\n",
       "      <td>2051-11-01</td>\n",
       "      <td>640.93</td>\n",
       "      <td>1</td>\n",
       "      <td>640.93</td>\n",
       "      <td>Lomina</td>\n",
       "      <td>A147921</td>\n",
       "      <td>Fixziming</td>\n",
       "      <td>37 North Ramblewood St.</td>\n",
       "      <td>Ephrata</td>\n",
       "      <td>PA</td>\n",
       "      <td>17522</td>\n",
       "    </tr>\n",
       "  </tbody>\n",
       "</table>\n",
       "</div>"
      ],
      "text/plain": [
       "     Transaction ID Transaction Date   Price  Quantity  Revenue Product  \\\n",
       "4158     T100004149       2051-11-01  640.93         1   640.93  Lomina   \n",
       "\n",
       "     Customer ID Company Name            Street Address     City State  \\\n",
       "4158     A147921    Fixziming  37 North Ramblewood St.   Ephrata    PA   \n",
       "\n",
       "      Postal Code  \n",
       "4158        17522  "
      ]
     },
     "execution_count": 27,
     "metadata": {},
     "output_type": "execute_result"
    }
   ],
   "source": [
    "# Busco outliers\n",
    "sales_customer_details[sales_customer_details[\"Transaction Date\"]>\"2015-12-31\"]"
   ]
  },
  {
   "cell_type": "code",
   "execution_count": 28,
   "metadata": {},
   "outputs": [
    {
     "data": {
      "text/html": [
       "<div>\n",
       "<style scoped>\n",
       "    .dataframe tbody tr th:only-of-type {\n",
       "        vertical-align: middle;\n",
       "    }\n",
       "\n",
       "    .dataframe tbody tr th {\n",
       "        vertical-align: top;\n",
       "    }\n",
       "\n",
       "    .dataframe thead th {\n",
       "        text-align: right;\n",
       "    }\n",
       "</style>\n",
       "<table border=\"1\" class=\"dataframe\">\n",
       "  <thead>\n",
       "    <tr style=\"text-align: right;\">\n",
       "      <th></th>\n",
       "      <th>Transaction ID</th>\n",
       "      <th>Transaction Date</th>\n",
       "      <th>Price</th>\n",
       "      <th>Quantity</th>\n",
       "      <th>Revenue</th>\n",
       "      <th>Product</th>\n",
       "      <th>Customer ID</th>\n",
       "      <th>Company Name</th>\n",
       "      <th>Street Address</th>\n",
       "      <th>City</th>\n",
       "      <th>State</th>\n",
       "      <th>Postal Code</th>\n",
       "    </tr>\n",
       "  </thead>\n",
       "  <tbody>\n",
       "  </tbody>\n",
       "</table>\n",
       "</div>"
      ],
      "text/plain": [
       "Empty DataFrame\n",
       "Columns: [Transaction ID, Transaction Date, Price, Quantity, Revenue, Product, Customer ID, Company Name, Street Address, City, State, Postal Code]\n",
       "Index: []"
      ]
     },
     "execution_count": 28,
     "metadata": {},
     "output_type": "execute_result"
    }
   ],
   "source": [
    "# Busco outliers\n",
    "sales_customer_details[sales_customer_details[\"Transaction Date\"]<\"2012-01-01\"]"
   ]
  },
  {
   "cell_type": "code",
   "execution_count": 29,
   "metadata": {},
   "outputs": [],
   "source": [
    "# Cambio de 2051 a 2015 ya que el usuario se debe haber equivocado en el momento de escribirlo\n",
    "sales_customer_details.loc[4158,\"Transaction Date\"]='2015-11-01 00:00:00'"
   ]
  },
  {
   "cell_type": "code",
   "execution_count": 30,
   "metadata": {},
   "outputs": [
    {
     "data": {
      "text/html": [
       "<div>\n",
       "<style scoped>\n",
       "    .dataframe tbody tr th:only-of-type {\n",
       "        vertical-align: middle;\n",
       "    }\n",
       "\n",
       "    .dataframe tbody tr th {\n",
       "        vertical-align: top;\n",
       "    }\n",
       "\n",
       "    .dataframe thead th {\n",
       "        text-align: right;\n",
       "    }\n",
       "</style>\n",
       "<table border=\"1\" class=\"dataframe\">\n",
       "  <thead>\n",
       "    <tr style=\"text-align: right;\">\n",
       "      <th></th>\n",
       "      <th>Transaction ID</th>\n",
       "      <th>Price</th>\n",
       "      <th>Revenue</th>\n",
       "    </tr>\n",
       "  </thead>\n",
       "  <tbody>\n",
       "    <tr>\n",
       "      <th>0</th>\n",
       "      <td>T100000001</td>\n",
       "      <td>404.46</td>\n",
       "      <td>7280.28</td>\n",
       "    </tr>\n",
       "    <tr>\n",
       "      <th>1</th>\n",
       "      <td>T100000002</td>\n",
       "      <td>202.23</td>\n",
       "      <td>1820.07</td>\n",
       "    </tr>\n",
       "    <tr>\n",
       "      <th>2</th>\n",
       "      <td>T100000003</td>\n",
       "      <td>179.76</td>\n",
       "      <td>1438.08</td>\n",
       "    </tr>\n",
       "    <tr>\n",
       "      <th>3</th>\n",
       "      <td>T100000004</td>\n",
       "      <td>831.39</td>\n",
       "      <td>30761.43</td>\n",
       "    </tr>\n",
       "    <tr>\n",
       "      <th>4</th>\n",
       "      <td>T100000005</td>\n",
       "      <td>1101.03</td>\n",
       "      <td>53950.47</td>\n",
       "    </tr>\n",
       "    <tr>\n",
       "      <th>...</th>\n",
       "      <td>...</td>\n",
       "      <td>...</td>\n",
       "      <td>...</td>\n",
       "    </tr>\n",
       "    <tr>\n",
       "      <th>4450</th>\n",
       "      <td>T100004441</td>\n",
       "      <td>3419.72</td>\n",
       "      <td>13678.88</td>\n",
       "    </tr>\n",
       "    <tr>\n",
       "      <th>4451</th>\n",
       "      <td>T100004442</td>\n",
       "      <td>5129.58</td>\n",
       "      <td>30777.48</td>\n",
       "    </tr>\n",
       "    <tr>\n",
       "      <th>4452</th>\n",
       "      <td>T100004443</td>\n",
       "      <td>5129.58</td>\n",
       "      <td>30777.48</td>\n",
       "    </tr>\n",
       "    <tr>\n",
       "      <th>4453</th>\n",
       "      <td>T100004444</td>\n",
       "      <td>5129.58</td>\n",
       "      <td>30777.48</td>\n",
       "    </tr>\n",
       "    <tr>\n",
       "      <th>4454</th>\n",
       "      <td>T100004445</td>\n",
       "      <td>6839.44</td>\n",
       "      <td>54715.52</td>\n",
       "    </tr>\n",
       "  </tbody>\n",
       "</table>\n",
       "<p>4455 rows × 3 columns</p>\n",
       "</div>"
      ],
      "text/plain": [
       "     Transaction ID    Price   Revenue\n",
       "0        T100000001   404.46   7280.28\n",
       "1        T100000002   202.23   1820.07\n",
       "2        T100000003   179.76   1438.08\n",
       "3        T100000004   831.39  30761.43\n",
       "4        T100000005  1101.03  53950.47\n",
       "...             ...      ...       ...\n",
       "4450     T100004441  3419.72  13678.88\n",
       "4451     T100004442  5129.58  30777.48\n",
       "4452     T100004443  5129.58  30777.48\n",
       "4453     T100004444  5129.58  30777.48\n",
       "4454     T100004445  6839.44  54715.52\n",
       "\n",
       "[4455 rows x 3 columns]"
      ]
     },
     "execution_count": 30,
     "metadata": {},
     "output_type": "execute_result"
    }
   ],
   "source": [
    "# Seleccionando columnas\n",
    "sales_customer_details[[\"Transaction ID\",\"Price\", \"Revenue\"]]"
   ]
  },
  {
   "cell_type": "markdown",
   "metadata": {},
   "source": [
    "## Chequeo valores nulos"
   ]
  },
  {
   "cell_type": "code",
   "execution_count": 31,
   "metadata": {},
   "outputs": [
    {
     "data": {
      "text/plain": [
       "Transaction ID       0\n",
       "Transaction Date     0\n",
       "Price                0\n",
       "Quantity             0\n",
       "Revenue              0\n",
       "Product             13\n",
       "Customer ID          0\n",
       "Company Name         0\n",
       "Street Address       0\n",
       "City                 0\n",
       "State                0\n",
       "Postal Code          0\n",
       "dtype: int64"
      ]
     },
     "execution_count": 31,
     "metadata": {},
     "output_type": "execute_result"
    }
   ],
   "source": [
    "# Utilizo el metodo isna() o isnull()\n",
    "sales_customer_details.isna().sum() "
   ]
  },
  {
   "cell_type": "code",
   "execution_count": 32,
   "metadata": {},
   "outputs": [
    {
     "data": {
      "text/plain": [
       "Price       548.992308\n",
       "Quantity     22.307692\n",
       "dtype: float64"
      ]
     },
     "execution_count": 32,
     "metadata": {},
     "output_type": "execute_result"
    }
   ],
   "source": [
    "# Limpio los valores nulos de Product\n",
    "nulls = sales_customer_details[sales_customer_details['Product'].isna()]\n",
    "no_nulls = sales_customer_details[~sales_customer_details['Product'].isna()]\n",
    "\n",
    "nulls[[\"Price\", \"Quantity\"]].mean()"
   ]
  },
  {
   "cell_type": "code",
   "execution_count": 33,
   "metadata": {},
   "outputs": [
    {
     "data": {
      "text/html": [
       "<div>\n",
       "<style scoped>\n",
       "    .dataframe tbody tr th:only-of-type {\n",
       "        vertical-align: middle;\n",
       "    }\n",
       "\n",
       "    .dataframe tbody tr th {\n",
       "        vertical-align: top;\n",
       "    }\n",
       "\n",
       "    .dataframe thead th {\n",
       "        text-align: right;\n",
       "    }\n",
       "</style>\n",
       "<table border=\"1\" class=\"dataframe\">\n",
       "  <thead>\n",
       "    <tr style=\"text-align: right;\">\n",
       "      <th></th>\n",
       "      <th>Price</th>\n",
       "      <th>Quantity</th>\n",
       "      <th>Revenue</th>\n",
       "      <th>Postal Code</th>\n",
       "    </tr>\n",
       "    <tr>\n",
       "      <th>Product</th>\n",
       "      <th></th>\n",
       "      <th></th>\n",
       "      <th></th>\n",
       "      <th></th>\n",
       "    </tr>\n",
       "  </thead>\n",
       "  <tbody>\n",
       "    <tr>\n",
       "      <th>Lomina</th>\n",
       "      <td>1681.861591</td>\n",
       "      <td>23.978697</td>\n",
       "      <td>27210.724167</td>\n",
       "      <td>33721.615915</td>\n",
       "    </tr>\n",
       "    <tr>\n",
       "      <th>Lominade</th>\n",
       "      <td>292.110000</td>\n",
       "      <td>13.000000</td>\n",
       "      <td>3797.430000</td>\n",
       "      <td>19047.000000</td>\n",
       "    </tr>\n",
       "    <tr>\n",
       "      <th>Samatan</th>\n",
       "      <td>854.930000</td>\n",
       "      <td>1.000000</td>\n",
       "      <td>854.930000</td>\n",
       "      <td>22554.000000</td>\n",
       "    </tr>\n",
       "    <tr>\n",
       "      <th>Samtan</th>\n",
       "      <td>8986.098278</td>\n",
       "      <td>4.293051</td>\n",
       "      <td>28513.269486</td>\n",
       "      <td>34092.106747</td>\n",
       "    </tr>\n",
       "    <tr>\n",
       "      <th>Tridesta</th>\n",
       "      <td>8080.819378</td>\n",
       "      <td>66.469722</td>\n",
       "      <td>411878.777578</td>\n",
       "      <td>37204.918167</td>\n",
       "    </tr>\n",
       "    <tr>\n",
       "      <th>Tridestand</th>\n",
       "      <td>1302.190000</td>\n",
       "      <td>28.000000</td>\n",
       "      <td>36461.320000</td>\n",
       "      <td>11520.000000</td>\n",
       "    </tr>\n",
       "    <tr>\n",
       "      <th>Wedicare</th>\n",
       "      <td>9466.443201</td>\n",
       "      <td>54.261116</td>\n",
       "      <td>831888.498036</td>\n",
       "      <td>32978.857720</td>\n",
       "    </tr>\n",
       "    <tr>\n",
       "      <th>Wediicare</th>\n",
       "      <td>1874.640000</td>\n",
       "      <td>31.000000</td>\n",
       "      <td>58113.840000</td>\n",
       "      <td>48103.000000</td>\n",
       "    </tr>\n",
       "    <tr>\n",
       "      <th>ufbbq</th>\n",
       "      <td>854.930000</td>\n",
       "      <td>1.000000</td>\n",
       "      <td>854.930000</td>\n",
       "      <td>11379.000000</td>\n",
       "    </tr>\n",
       "  </tbody>\n",
       "</table>\n",
       "</div>"
      ],
      "text/plain": [
       "                  Price   Quantity        Revenue   Postal Code\n",
       "Product                                                        \n",
       "Lomina      1681.861591  23.978697   27210.724167  33721.615915\n",
       "Lominade     292.110000  13.000000    3797.430000  19047.000000\n",
       "Samatan      854.930000   1.000000     854.930000  22554.000000\n",
       "Samtan      8986.098278   4.293051   28513.269486  34092.106747\n",
       "Tridesta    8080.819378  66.469722  411878.777578  37204.918167\n",
       "Tridestand  1302.190000  28.000000   36461.320000  11520.000000\n",
       "Wedicare    9466.443201  54.261116  831888.498036  32978.857720\n",
       "Wediicare   1874.640000  31.000000   58113.840000  48103.000000\n",
       "ufbbq        854.930000   1.000000     854.930000  11379.000000"
      ]
     },
     "execution_count": 33,
     "metadata": {},
     "output_type": "execute_result"
    }
   ],
   "source": [
    "#sales_customer_details.groupby(sales_customer_details[\"Product\"]).mean()\n",
    "no_nulls.groupby(sales_customer_details[\"Product\"]).mean()"
   ]
  },
  {
   "cell_type": "code",
   "execution_count": 34,
   "metadata": {},
   "outputs": [],
   "source": [
    "# Observamos que el promedio en Quantity del producto Lomina es bastante similar, asi que puede haber relacion alli"
   ]
  },
  {
   "cell_type": "code",
   "execution_count": 35,
   "metadata": {},
   "outputs": [
    {
     "data": {
      "text/plain": [
       "Transaction ID      0\n",
       "Transaction Date    0\n",
       "Price               0\n",
       "Quantity            0\n",
       "Revenue             0\n",
       "Product             0\n",
       "Customer ID         0\n",
       "Company Name        0\n",
       "Street Address      0\n",
       "City                0\n",
       "State               0\n",
       "Postal Code         0\n",
       "dtype: int64"
      ]
     },
     "execution_count": 35,
     "metadata": {},
     "output_type": "execute_result"
    }
   ],
   "source": [
    "# Agrego los valores que no tenian nombre de producto a \"Lomina\" y chequeo que no hay mas nulls (osea que ya se cargaron)\n",
    "\n",
    "sales_customer_details[\"Product\"].fillna(\"Lomina\", inplace=True)\n",
    "sales_customer_details.isna().sum()"
   ]
  },
  {
   "cell_type": "markdown",
   "metadata": {},
   "source": [
    "# Encontrar duplicados"
   ]
  },
  {
   "cell_type": "code",
   "execution_count": 36,
   "metadata": {},
   "outputs": [],
   "source": [
    "# Primero hago la busqueda general y hago un drop() luego hago busqueda por ID y veo si el usuario quizas se equivoco nomas"
   ]
  },
  {
   "cell_type": "markdown",
   "metadata": {},
   "source": [
    "# Categorical Value Errors"
   ]
  },
  {
   "cell_type": "code",
   "execution_count": 37,
   "metadata": {},
   "outputs": [
    {
     "data": {
      "text/plain": [
       "Lomina        1609\n",
       "Wedicare      1237\n",
       "Samtan         993\n",
       "Tridesta       611\n",
       "ufbbq            1\n",
       "Tridestand       1\n",
       "Wediicare        1\n",
       "Samatan          1\n",
       "Lominade         1\n",
       "Name: Product, dtype: int64"
      ]
     },
     "execution_count": 37,
     "metadata": {},
     "output_type": "execute_result"
    }
   ],
   "source": [
    "# Puede ser que los usuarios nos ingresen valores categoricos con distintos nombres o etiquetas\n",
    "sales_customer_details[\"Product\"].value_counts()"
   ]
  },
  {
   "cell_type": "code",
   "execution_count": 38,
   "metadata": {},
   "outputs": [
    {
     "data": {
      "text/plain": [
       "Lomina      1610\n",
       "Wedicare    1238\n",
       "Samtan       994\n",
       "Tridesta     612\n",
       "ufbbq          1\n",
       "Name: Product, dtype: int64"
      ]
     },
     "execution_count": 38,
     "metadata": {},
     "output_type": "execute_result"
    }
   ],
   "source": [
    "# Nuestro deber es fusionar estos datos\n",
    "replacements = {\n",
    "    \"Lominade\":\"Lomina\",\n",
    "    \"Tridestand\":\"Tridesta\",\n",
    "    \"Samatan\":\"Samtan\",\n",
    "    \"Wediicare\":\"Wedicare\"\n",
    "}\n",
    "sales_customer_details = sales_customer_details.replace(replacements)\n",
    "sales_customer_details[\"Product\"].value_counts()"
   ]
  },
  {
   "cell_type": "code",
   "execution_count": 39,
   "metadata": {},
   "outputs": [
    {
     "data": {
      "text/plain": [
       "Lomina      1610\n",
       "Wedicare    1238\n",
       "Samtan       994\n",
       "Tridesta     612\n",
       "Name: Product, dtype: int64"
      ]
     },
     "execution_count": 39,
     "metadata": {},
     "output_type": "execute_result"
    }
   ],
   "source": [
    "# Como no puedo dropear donde \"Product\" == \"ufbbq\" entonces armo una lista con los valores que quiero ver y se la paso al DF\n",
    "products=[\"Lomina\",\"Samtan\",\"Tridesta\",\"Wedicare\"]\n",
    "sales_customer_details=sales_customer_details[sales_customer_details[\"Product\"].isin(products)]\n",
    "sales_customer_details[\"Product\"].value_counts()"
   ]
  },
  {
   "cell_type": "code",
   "execution_count": 40,
   "metadata": {},
   "outputs": [
    {
     "data": {
      "text/plain": [
       "<matplotlib.collections.PathCollection at 0x16d29e7b730>"
      ]
     },
     "execution_count": 40,
     "metadata": {},
     "output_type": "execute_result"
    },
    {
     "data": {
      "image/png": "[encoded data removed]",
      "text/plain": [
       "<Figure size 576x576 with 1 Axes>"
      ]
     },
     "metadata": {
      "needs_background": "light"
     },
     "output_type": "display_data"
    }
   ],
   "source": [
    "plt.figure(figsize=(8, 8))\n",
    "plt.scatter(sales_customer_details[\"Transaction Date\"],sales_customer_details[\"Price\"])"
   ]
  }
 ],
 "metadata": {
  "kernelspec": {
   "display_name": "Python 3",
   "language": "python",
   "name": "python3"
  },
  "language_info": {
   "codemirror_mode": {
    "name": "ipython",
    "version": 3
   },
   "file_extension": ".py",
   "mimetype": "text/x-python",
   "name": "python",
   "nbconvert_exporter": "python",
   "pygments_lexer": "ipython3",
   "version": "3.8.5"
  }
 },
 "nbformat": 4,
 "nbformat_minor": 4
}
